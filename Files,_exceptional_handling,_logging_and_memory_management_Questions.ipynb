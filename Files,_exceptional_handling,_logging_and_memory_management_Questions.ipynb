{
  "nbformat": 4,
  "nbformat_minor": 0,
  "metadata": {
    "colab": {
      "provenance": []
    },
    "kernelspec": {
      "name": "python3",
      "display_name": "Python 3"
    },
    "language_info": {
      "name": "python"
    }
  },
  "cells": [
    {
      "cell_type": "markdown",
      "source": [],
      "metadata": {
        "id": "DR38744qHQ68"
      }
    },
    {
      "cell_type": "markdown",
      "source": [
        "1. What is the difference between interpreted and compiled languages ?\n",
        "  -  In compiled languages, the source code is translated into machine code (binary) by a compiler before it is run.\n",
        "  - In interpreted languages, the source code is not pre-compiled. Instead, an interpreter reads and executes the code line by line at runtime.\n",
        "2. What is exception handling in Python ?\n",
        " - Exception handling in Python is a way to manage errors that occur during the execution of a program. Instead of stopping the program when an error occurs, Python lets you \"catch\" and \"handle\" those errors gracefully.\n",
        "3. What is the purpose of the finally block in exception handling ?\n",
        " - The finally block in Python is used to define code that must be executed, no matter what — whether an exception occurred or not.\n",
        "4. What is logging in Python ?\n",
        " - Logging in Python is the process of recording events, errors, warnings, or information that happens while a program runs. It helps debug, monitor, and track the behavior of an application.\n",
        "5. What is the significance of the __del__ method in Python ?\n",
        " - The __del__ method in Python is a special (magic) method called a destructor. It is automatically called when an object is about to be destroyed (i.e., when it is garbage collected).\n",
        "6. What is the difference between import and from ... import in Python ?\n",
        " - Both are used to include external modules in your Python program, but they work a bit differently.\n",
        "7.  How can you handle multiple exceptions in Python ?\n",
        " - Python allows you to handle multiple exceptions in a clean and organized way using multiple except blocks or a single block with multiple exceptions.\n",
        "8. What is the purpose of the with statement when handling files in Python ?\n",
        "  - The with statement in Python is used to simplify file handling by automatically managing resources like file streams.\n",
        "9. What is the difference between multithreading and multiprocessing ?\n",
        " - Both multithreading and multiprocessing are used to perform concurrent (parallel) tasks, but they differ in how they do it and what problems they are best suited for.\n",
        "10. What are the advantages of using logging in a program ?\n",
        "  - Using logging instead of print() statements provides several important benefits, especially in large or production-level applications.\n",
        "11. What is memory management in Python ?\n",
        "  - Memory management in Python refers to the process of allocating, using, and releasing memory efficiently during program execution. It ensures that your program doesn't waste memory or crash due to memory issues.\n",
        "12. What are the basic steps involved in exception handling in Python ?\n",
        "  - Exception handling in Python is the process of managing errors gracefully during program execution. It prevents programs from crashing unexpectedly and allows developers to define how to respond to runtime errors.\n",
        "13. Why is memory management important in Python ?\n",
        " - Memory management is crucial in Python because it directly affects a program’s performance, stability, and scalability.\n",
        "14. What is the role of try and except in exception handling ?\n",
        "  - In Python, try and except blocks are used to catch and handle exceptions (errors) that may occur during program execution. They form the core structure of exception handling.\n",
        "15. How does Python's garbage collection system work ?\n",
        " - Python's garbage collection (GC) system is responsible for automatically reclaiming memory used by objects that are no longer needed. This prevents memory leaks and keeps programs efficient.\n",
        " 16. What is the purpose of the else block in exception handling ?\n",
        "   - The else block in Python exception handling is used to define code that should run only if no exception was raised in the try block.\n",
        "17. What are the common logging levels in Python ?\n",
        "  - Python provides a built-in logging module that helps you track events that happen during program execution. Logging levels define the severity or importance of the events.\n",
        "18. What is the difference between os.fork() and multiprocessing in Python ?\n",
        "  - Both os.fork() and the multiprocessing module are used to create new processes, but they differ in how they work, platform support, and ease of use.\n",
        "19. What is the importance of closing a file in Python ?\n",
        " - Closing a file in Python is very important for maintaining data integrity, managing system resources, and ensuring proper program behavior.\n",
        "20. What is the difference between file.read() and file.readline() in Python ?\n",
        "  - Both file.read() and file.readline() are used to read data from a file, but they behave differently in terms of how much data they read.\n",
        "21. What is the logging module in Python used for ?\n",
        " - The logging module in Python is used to track events that happen during the execution of a program. It provides a flexible framework for emitting log messages from Python programs.\n",
        "22. What is the os module in Python used for in file handling ?\n",
        "  - The os module in Python provides functions to interact with the operating system, especially for file and directory handling.\n",
        "\n",
        "23. What are the challenges associated with memory management in Python ?\n",
        " - While Python provides automatic memory management through its garbage collector, there are still several challenges developers may encounter:\n",
        "     - Memory Leaks\n",
        "     - Circular References\n",
        "     - Garbage Collection Overhead\n",
        "     - Fragmentation\n",
        "     - High Memory Usage with Large Data\n",
        "     - Lack of Explicit Control\n",
        "24. How do you raise an exception manually in Python ?\n",
        "  - In Python, you can raise an exception manually using the raise statement. This is useful when you want to trigger an error intentionally based on certain conditions in your program.\n",
        "25. Why is it important to use multithreading in certain applications ?\n",
        "  - Multithreading allows a program to execute multiple threads (smaller units of a process) concurrently. This is important in applications where responsiveness, efficiency, and parallel task execution are required.\n",
        "\n",
        "\n",
        "\n"
      ],
      "metadata": {
        "id": "Tu0LST5aHXf_"
      }
    },
    {
      "cell_type": "markdown",
      "source": [
        "## Practical Questions ##"
      ],
      "metadata": {
        "id": "zJCtZ_6_M2vw"
      }
    },
    {
      "cell_type": "markdown",
      "source": [
        "1. How can you open a file for writing in Python and write a string to it"
      ],
      "metadata": {
        "id": "3OUm4lHxM9DS"
      }
    },
    {
      "cell_type": "code",
      "source": [
        "with open(\"example.txt\", \"w\") as file:\n",
        "    file.write(\"Hello, this is a sample text.\")"
      ],
      "metadata": {
        "id": "chAE7RbONCTQ"
      },
      "execution_count": 1,
      "outputs": []
    },
    {
      "cell_type": "markdown",
      "source": [
        "2. Write a Python program to read the contents of a file and print each lineF\n"
      ],
      "metadata": {
        "id": "ioUX704kNgVH"
      }
    },
    {
      "cell_type": "code",
      "source": [
        "# Open the file in read mode\n",
        "with open(\"example.txt\", \"r\") as file:\n",
        "    # Read and print each line one by one\n",
        "    for line in file:\n",
        "        print(line.strip())  # strip() removes extra newline characters\n"
      ],
      "metadata": {
        "colab": {
          "base_uri": "https://localhost:8080/"
        },
        "id": "kOtwqJ3VNkbd",
        "outputId": "148796d3-491f-4e9d-a871-49d1391f04f5"
      },
      "execution_count": 2,
      "outputs": [
        {
          "output_type": "stream",
          "name": "stdout",
          "text": [
            "Hello, this is a sample text.\n"
          ]
        }
      ]
    },
    {
      "cell_type": "markdown",
      "source": [
        "3. How would you handle a case where the file doesn't exist while trying to open it for reading"
      ],
      "metadata": {
        "id": "-Y8NL45ONxhA"
      }
    },
    {
      "cell_type": "code",
      "source": [
        "filename = \"example.txt\"\n",
        "\n",
        "try:\n",
        "    with open(filename, \"r\") as file:\n",
        "        for line in file:\n",
        "            print(line.strip())\n",
        "except FileNotFoundError:\n",
        "    print(f\"Error: The file '{filename}' does not exist.\")\n"
      ],
      "metadata": {
        "colab": {
          "base_uri": "https://localhost:8080/"
        },
        "id": "4KXtTkbyN3So",
        "outputId": "277bd1a7-9b87-4a2f-d8ff-1c1411a76d94"
      },
      "execution_count": 3,
      "outputs": [
        {
          "output_type": "stream",
          "name": "stdout",
          "text": [
            "Hello, this is a sample text.\n"
          ]
        }
      ]
    },
    {
      "cell_type": "markdown",
      "source": [
        "4. Write a Python script that reads from one file and writes its content to another fileF"
      ],
      "metadata": {
        "id": "sx1eSaHrN9bR"
      }
    },
    {
      "cell_type": "code",
      "source": [
        "# Define source and destination file names\n",
        "source_file = \"source.txt\"\n",
        "destination_file = \"destination.txt\"\n",
        "\n",
        "try:\n",
        "    # Open source file for reading\n",
        "    with open(source_file, \"r\") as src:\n",
        "        # Open destination file for writing\n",
        "        with open(destination_file, \"w\") as dest:\n",
        "            # Read from source and write to destination\n",
        "            for line in src:\n",
        "                dest.write(line)\n",
        "\n",
        "    print(f\"Contents copied from '{source_file}' to '{destination_file}' successfully.\")\n",
        "except FileNotFoundError:\n",
        "    print(f\"Error: The file '{source_file}' does not exist.\")\n",
        "except IOError as e:\n",
        "    print(f\"I/O error occurred: {e}\")\n"
      ],
      "metadata": {
        "colab": {
          "base_uri": "https://localhost:8080/"
        },
        "id": "XV9yveATOBJJ",
        "outputId": "efc837f0-f622-4718-923a-dbf72991000b"
      },
      "execution_count": 4,
      "outputs": [
        {
          "output_type": "stream",
          "name": "stdout",
          "text": [
            "Error: The file 'source.txt' does not exist.\n"
          ]
        }
      ]
    },
    {
      "cell_type": "markdown",
      "source": [
        "5.  How would you catch and handle division by zero error in Python"
      ],
      "metadata": {
        "id": "OvAJfAldOE6u"
      }
    },
    {
      "cell_type": "code",
      "source": [
        "try:\n",
        "    num = 10\n",
        "    denom = 0\n",
        "    result = num / denom\n",
        "    print(\"Result:\", result)\n",
        "except ZeroDivisionError:\n",
        "    print(\"Error: Division by zero is not allowed.\")\n"
      ],
      "metadata": {
        "colab": {
          "base_uri": "https://localhost:8080/"
        },
        "id": "KDsn9V83OKeC",
        "outputId": "63d3dbec-aca0-4ef3-af37-414b12cdd047"
      },
      "execution_count": 5,
      "outputs": [
        {
          "output_type": "stream",
          "name": "stdout",
          "text": [
            "Error: Division by zero is not allowed.\n"
          ]
        }
      ]
    },
    {
      "cell_type": "markdown",
      "source": [
        "6. Write a Python program that logs an error message to a log file when a division by zero exception occurs."
      ],
      "metadata": {
        "id": "c26-y1UgONem"
      }
    },
    {
      "cell_type": "code",
      "source": [
        "import logging\n",
        "\n",
        "# Configure logging\n",
        "logging.basicConfig(\n",
        "    filename='error_log.txt',      # Log file name\n",
        "    level=logging.ERROR,           # Log level\n",
        "    format='%(asctime)s - %(levelname)s - %(message)s'  # Log format\n",
        ")\n",
        "\n",
        "try:\n",
        "    # Example division\n",
        "    numerator = 10\n",
        "    denominator = 0\n",
        "    result = numerator / denominator\n",
        "    print(\"Result:\", result)\n",
        "\n",
        "except ZeroDivisionError as e:\n",
        "    logging.error(\"Division by zero attempted. Details: %s\", e)\n",
        "    print(\"An error occurred. Check the log file for details.\")\n"
      ],
      "metadata": {
        "colab": {
          "base_uri": "https://localhost:8080/"
        },
        "id": "nMWuY-WhOWem",
        "outputId": "c64842e6-bef5-4849-b2e0-0d3a4c222339"
      },
      "execution_count": 6,
      "outputs": [
        {
          "output_type": "stream",
          "name": "stderr",
          "text": [
            "ERROR:root:Division by zero attempted. Details: division by zero\n"
          ]
        },
        {
          "output_type": "stream",
          "name": "stdout",
          "text": [
            "An error occurred. Check the log file for details.\n"
          ]
        }
      ]
    },
    {
      "cell_type": "markdown",
      "source": [
        "7. How do you log information at different levels (INFO, ERROR, WARNING) in Python using the logging module"
      ],
      "metadata": {
        "id": "_T-Zbu5UOZmb"
      }
    },
    {
      "cell_type": "code",
      "source": [
        "import logging\n",
        "\n",
        "# Configure the logging\n",
        "logging.basicConfig(\n",
        "    filename='app.log',               # Log file name\n",
        "    level=logging.DEBUG,              # Minimum logging level\n",
        "    format='%(asctime)s - %(levelname)s - %(message)s'\n",
        ")\n",
        "\n",
        "# Logging messages at different levels\n",
        "logging.debug(\"This is a DEBUG message.\")\n",
        "logging.info(\"This is an INFO message.\")\n",
        "logging.warning(\"This is a WARNING message.\")\n",
        "logging.error(\"This is an ERROR message.\")\n",
        "logging.critical(\"This is a CRITICAL message.\")\n"
      ],
      "metadata": {
        "colab": {
          "base_uri": "https://localhost:8080/"
        },
        "id": "BMhsN3NrOhHP",
        "outputId": "43527b81-c8b5-45e3-9531-9f1c53bd5e64"
      },
      "execution_count": 7,
      "outputs": [
        {
          "output_type": "stream",
          "name": "stderr",
          "text": [
            "WARNING:root:This is a WARNING message.\n",
            "ERROR:root:This is an ERROR message.\n",
            "CRITICAL:root:This is a CRITICAL message.\n"
          ]
        }
      ]
    },
    {
      "cell_type": "markdown",
      "source": [
        "8. Write a program to handle a file opening error using exception handling"
      ],
      "metadata": {
        "id": "Smvs8c_yOikM"
      }
    },
    {
      "cell_type": "code",
      "source": [
        "filename = \"nonexistent_file.txt\"  # File that does not exist\n",
        "\n",
        "try:\n",
        "    with open(filename, \"r\") as file:\n",
        "        content = file.read()\n",
        "        print(\"File content:\\n\", content)\n",
        "\n",
        "except FileNotFoundError:\n",
        "    print(f\"Error: The file '{filename}' was not found.\")\n",
        "\n",
        "except IOError as e:\n",
        "    print(f\"An I/O error occurred: {e}\")\n"
      ],
      "metadata": {
        "colab": {
          "base_uri": "https://localhost:8080/"
        },
        "id": "r3F9Dkz5On3r",
        "outputId": "934ebe97-07e1-4f12-e96b-81d6e7e70ad5"
      },
      "execution_count": 8,
      "outputs": [
        {
          "output_type": "stream",
          "name": "stdout",
          "text": [
            "Error: The file 'nonexistent_file.txt' was not found.\n"
          ]
        }
      ]
    },
    {
      "cell_type": "markdown",
      "source": [
        "9.  How can you read a file line by line and store its content in a list in Python"
      ],
      "metadata": {
        "id": "5Ombj9D2Ow_m"
      }
    },
    {
      "cell_type": "code",
      "source": [
        "with open(\"example.txt\", \"r\") as file:\n",
        "    lines = file.readlines()\n",
        "\n",
        "print(lines)  # This will be a list where each item is a line from the file\n"
      ],
      "metadata": {
        "colab": {
          "base_uri": "https://localhost:8080/"
        },
        "id": "T_KH0kNwO1Ym",
        "outputId": "d1fa640d-d233-47cf-b724-3f2ebf88360a"
      },
      "execution_count": 9,
      "outputs": [
        {
          "output_type": "stream",
          "name": "stdout",
          "text": [
            "['Hello, this is a sample text.']\n"
          ]
        }
      ]
    },
    {
      "cell_type": "markdown",
      "source": [
        "10. How can you append data to an existing file in Python ?"
      ],
      "metadata": {
        "id": "MCNmvp4DO7Ec"
      }
    },
    {
      "cell_type": "code",
      "source": [
        "# Open the file in append mode\n",
        "with open(\"example.txt\", \"a\") as file:\n",
        "    file.write(\"This line will be added to the file.\\n\")\n"
      ],
      "metadata": {
        "id": "DV3ATvUyPAQ1"
      },
      "execution_count": 10,
      "outputs": []
    },
    {
      "cell_type": "markdown",
      "source": [
        "11.  Write a Python program that uses a try-except block to handle an error when attempting to access a\n",
        "dictionary key that doesn't exist"
      ],
      "metadata": {
        "id": "cLAEwjpiPDoy"
      }
    },
    {
      "cell_type": "code",
      "source": [
        "# Sample dictionary\n",
        "person = {\n",
        "    \"name\": \"Alice\",\n",
        "    \"age\": 30\n",
        "}\n",
        "\n",
        "try:\n",
        "    # Attempting to access a key that doesn't exist\n",
        "    print(\"City:\", person[\"city\"])\n",
        "except KeyError:\n",
        "    print(\"Error: The key 'city' does not exist in the dictionary.\")\n"
      ],
      "metadata": {
        "colab": {
          "base_uri": "https://localhost:8080/"
        },
        "id": "OzLUTKFHPIB-",
        "outputId": "11a52feb-6314-443e-98e5-0333837c636d"
      },
      "execution_count": 11,
      "outputs": [
        {
          "output_type": "stream",
          "name": "stdout",
          "text": [
            "Error: The key 'city' does not exist in the dictionary.\n"
          ]
        }
      ]
    },
    {
      "cell_type": "markdown",
      "source": [
        "12. Write a program that demonstrates using multiple except blocks to handle different types of exceptions."
      ],
      "metadata": {
        "id": "6U9E-53mPKvF"
      }
    },
    {
      "cell_type": "code",
      "source": [
        "try:\n",
        "    # User input for demonstration\n",
        "    num = int(input(\"Enter a number: \"))\n",
        "    result = 10 / num\n",
        "    print(\"Result:\", result)\n",
        "\n",
        "    # Accessing a dictionary key\n",
        "    data = {\"name\": \"Alice\"}\n",
        "    print(\"Age:\", data[\"age\"])\n",
        "\n",
        "except ZeroDivisionError:\n",
        "    print(\"Error: Cannot divide by zero.\")\n",
        "\n",
        "except ValueError:\n",
        "    print(\"Error: Invalid input. Please enter a number.\")\n",
        "\n",
        "except KeyError:\n",
        "    print(\"Error: The specified key does not exist in the dictionary.\")\n"
      ],
      "metadata": {
        "colab": {
          "base_uri": "https://localhost:8080/"
        },
        "id": "XbJZdv-TPQ94",
        "outputId": "a80de1f4-d430-4a39-fd5c-d07cd7da299a"
      },
      "execution_count": 12,
      "outputs": [
        {
          "output_type": "stream",
          "name": "stdout",
          "text": [
            "Enter a number: 0\n",
            "Error: Cannot divide by zero.\n"
          ]
        }
      ]
    },
    {
      "cell_type": "markdown",
      "source": [
        "13. How would you check if a file exists before attempting to read it in Python ?"
      ],
      "metadata": {
        "id": "ZPTRpxyaPaW0"
      }
    },
    {
      "cell_type": "code",
      "source": [
        "import os\n",
        "\n",
        "filename = \"example.txt\"\n",
        "\n",
        "if os.path.exists(filename):\n",
        "    with open(filename, \"r\") as file:\n",
        "        content = file.read()\n",
        "        print(content)\n",
        "else:\n",
        "    print(f\"Error: '{filename}' does not exist.\")\n"
      ],
      "metadata": {
        "colab": {
          "base_uri": "https://localhost:8080/"
        },
        "id": "msk2kRQmPnC0",
        "outputId": "dc65dbe0-d2f9-4fbd-9a57-7aced894ea97"
      },
      "execution_count": 13,
      "outputs": [
        {
          "output_type": "stream",
          "name": "stdout",
          "text": [
            "Hello, this is a sample text.This line will be added to the file.\n",
            "\n"
          ]
        }
      ]
    },
    {
      "cell_type": "markdown",
      "source": [
        "14. Write a program that uses the logging module to log both informational and error messages"
      ],
      "metadata": {
        "id": "_RZZsfg_Po3O"
      }
    },
    {
      "cell_type": "code",
      "source": [
        "import logging\n",
        "\n",
        "# Configure logging\n",
        "logging.basicConfig(\n",
        "    filename='app_log.txt',             # Log file name\n",
        "    level=logging.DEBUG,                # Minimum level to log\n",
        "    format='%(asctime)s - %(levelname)s - %(message)s'\n",
        ")\n",
        "\n",
        "# Log an informational message\n",
        "logging.info(\"Program started successfully.\")\n",
        "\n",
        "try:\n",
        "    # A simple operation (division)\n",
        "    num1 = 10\n",
        "    num2 = 0\n",
        "    result = num1 / num2\n",
        "    logging.info(f\"Division result: {result}\")\n",
        "\n",
        "except ZeroDivisionError as e:\n",
        "    logging.error(\"Error occurred: Division by zero.\")\n",
        "\n",
        "# End of the program\n",
        "logging.info(\"Program finished.\")\n"
      ],
      "metadata": {
        "colab": {
          "base_uri": "https://localhost:8080/"
        },
        "id": "1V-3HqYUPsv4",
        "outputId": "3b273ae8-4e5d-4b74-ac4a-7b54513299cb"
      },
      "execution_count": 14,
      "outputs": [
        {
          "output_type": "stream",
          "name": "stderr",
          "text": [
            "ERROR:root:Error occurred: Division by zero.\n"
          ]
        }
      ]
    },
    {
      "cell_type": "markdown",
      "source": [
        "15. Write a Python program that prints the content of a file and handles the case when the file is empty"
      ],
      "metadata": {
        "id": "X2yOA3HEPvo9"
      }
    },
    {
      "cell_type": "code",
      "source": [
        "def print_file_content(filename):\n",
        "    try:\n",
        "        with open(filename, \"r\") as file:\n",
        "            content = file.read()\n",
        "\n",
        "            if content.strip() == \"\":\n",
        "                print(\"The file is empty.\")\n",
        "            else:\n",
        "                print(\"File content:\\n\")\n",
        "                print(content)\n",
        "\n",
        "    except FileNotFoundError:\n",
        "        print(f\"Error: The file '{filename}' does not exist.\")\n",
        "    except IOError as e:\n",
        "        print(f\"An I/O error occurred: {e}\")\n",
        "\n",
        "# Test with a file name\n",
        "print_file_content(\"example.txt\")\n"
      ],
      "metadata": {
        "colab": {
          "base_uri": "https://localhost:8080/"
        },
        "id": "aAh2SMY4P0G4",
        "outputId": "18140af7-a9d4-46ee-e604-cae8352b29bf"
      },
      "execution_count": 15,
      "outputs": [
        {
          "output_type": "stream",
          "name": "stdout",
          "text": [
            "File content:\n",
            "\n",
            "Hello, this is a sample text.This line will be added to the file.\n",
            "\n"
          ]
        }
      ]
    },
    {
      "cell_type": "markdown",
      "source": [
        "16. Demonstrate how to use memory profiling to check the memory usage of a small program"
      ],
      "metadata": {
        "id": "MAY7fzpeP3zk"
      }
    },
    {
      "cell_type": "code",
      "source": [
        "## Install memory_profiler\n",
        "\n",
        "# memory_example.py\n",
        "\n",
        "@profile\n",
        "def create_large_list():\n",
        "    large_list = [x * 2 for x in range(1000000)]  # Creates a large list\n",
        "    return large_list\n",
        "\n",
        "if __name__ == \"__main__\":\n",
        "    create_large_list()\n",
        "\n",
        "\n",
        "# python -m memory_profiler memory_example.py"
      ],
      "metadata": {
        "id": "31b3XwF7QvBb"
      },
      "execution_count": null,
      "outputs": []
    },
    {
      "cell_type": "markdown",
      "source": [
        "17. Write a Python program to create and write a list of numbers to a file, one number per line"
      ],
      "metadata": {
        "id": "4kRKJSRxQwpI"
      }
    },
    {
      "cell_type": "code",
      "source": [
        "# List of numbers to write\n",
        "numbers = [1, 2, 3, 4, 5, 6, 7, 8, 9, 10]\n",
        "\n",
        "# File to write to\n",
        "filename = \"numbers.txt\"\n",
        "\n",
        "# Write each number to the file on a separate line\n",
        "with open(filename, \"w\") as file:\n",
        "    for number in numbers:\n",
        "        file.write(str(number) + \"\\n\")\n",
        "\n",
        "print(f\"Successfully written {len(numbers)} numbers to '{filename}'\")\n"
      ],
      "metadata": {
        "colab": {
          "base_uri": "https://localhost:8080/"
        },
        "id": "BFAZbR3eQ2Ot",
        "outputId": "ea96c191-dec2-4bad-851c-6224895afa7e"
      },
      "execution_count": 17,
      "outputs": [
        {
          "output_type": "stream",
          "name": "stdout",
          "text": [
            "Successfully written 10 numbers to 'numbers.txt'\n"
          ]
        }
      ]
    },
    {
      "cell_type": "markdown",
      "source": [
        "18.  How would you implement a basic logging setup that logs to a file with rotation after 1MB"
      ],
      "metadata": {
        "id": "zQTN9aLYQ4uK"
      }
    },
    {
      "cell_type": "code",
      "source": [
        "import logging\n",
        "from logging.handlers import RotatingFileHandler\n",
        "\n",
        "# Configure the logger\n",
        "logger = logging.getLogger(\"MyLogger\")\n",
        "logger.setLevel(logging.DEBUG)\n",
        "\n",
        "# Set up a rotating file handler\n",
        "handler = RotatingFileHandler(\n",
        "    \"app.log\",         # Log file name\n",
        "    maxBytes=1_000_000,  # Rotate after 1MB\n",
        "    backupCount=3        # Keep 3 backup log files\n",
        ")\n",
        "\n",
        "# Log message format\n",
        "formatter = logging.Formatter('%(asctime)s - %(levelname)s - %(message)s')\n",
        "handler.setFormatter(formatter)\n",
        "\n",
        "# Add the handler to the logger\n",
        "logger.addHandler(handler)\n",
        "\n",
        "# Example log messages\n",
        "for i in range(10000):\n",
        "    logger.info(f\"Logging line {i}\")\n"
      ],
      "metadata": {
        "id": "mA1l5YLeRJM8"
      },
      "execution_count": null,
      "outputs": []
    },
    {
      "cell_type": "markdown",
      "source": [
        "19. Write a program that handles both IndexError and KeyError using a try-except block"
      ],
      "metadata": {
        "id": "niz1G_uKRKwF"
      }
    },
    {
      "cell_type": "code",
      "source": [
        "def handle_errors():\n",
        "    try:\n",
        "        # IndexError example\n",
        "        my_list = [1, 2, 3]\n",
        "        print(\"Accessing 5th item in list:\", my_list[4])  # IndexError\n",
        "\n",
        "        # KeyError example\n",
        "        my_dict = {\"name\": \"Alice\"}\n",
        "        print(\"Accessing 'age' key in dict:\", my_dict[\"age\"])  # KeyError\n",
        "\n",
        "    except IndexError:\n",
        "        print(\"Error: List index out of range.\")\n",
        "\n",
        "    except KeyError:\n",
        "        print(\"Error: Key not found in dictionary.\")\n",
        "\n",
        "# Run the function\n",
        "handle_errors()\n"
      ],
      "metadata": {
        "colab": {
          "base_uri": "https://localhost:8080/"
        },
        "id": "Bze888cSRP8o",
        "outputId": "63339fc1-7818-49bd-ba2d-15ac22ca2a68"
      },
      "execution_count": 19,
      "outputs": [
        {
          "output_type": "stream",
          "name": "stdout",
          "text": [
            "Error: List index out of range.\n"
          ]
        }
      ]
    },
    {
      "cell_type": "markdown",
      "source": [
        "20. How would you open a file and read its contents using a context manager in Python"
      ],
      "metadata": {
        "id": "3AYG8j1_RSvh"
      }
    },
    {
      "cell_type": "code",
      "source": [
        "filename = \"example.txt\"\n",
        "\n",
        "# Open and read using a context manager\n",
        "with open(filename, \"r\") as file:\n",
        "    content = file.read()\n",
        "    print(content)\n"
      ],
      "metadata": {
        "colab": {
          "base_uri": "https://localhost:8080/"
        },
        "id": "go041VzMRYvt",
        "outputId": "ec03e334-5db1-49c0-b295-2feb2e97074e"
      },
      "execution_count": 20,
      "outputs": [
        {
          "output_type": "stream",
          "name": "stdout",
          "text": [
            "Hello, this is a sample text.This line will be added to the file.\n",
            "\n"
          ]
        }
      ]
    },
    {
      "cell_type": "markdown",
      "source": [
        "21. Write a Python program that reads a file and prints the number of occurrences of a specific word"
      ],
      "metadata": {
        "id": "QNft23z7RZ1p"
      }
    },
    {
      "cell_type": "code",
      "source": [
        "def count_word_occurrences(filename, target_word):\n",
        "    try:\n",
        "        with open(filename, 'r') as file:\n",
        "            content = file.read()\n",
        "            # Convert to lowercase for case-insensitive search\n",
        "            words = content.lower().split()\n",
        "            count = words.count(target_word.lower())\n",
        "            print(f\"The word '{target_word}' occurs {count} time(s) in the file.\")\n",
        "    except FileNotFoundError:\n",
        "        print(f\"Error: The file '{filename}' does not exist.\")\n",
        "    except IOError as e:\n",
        "        print(f\"An I/O error occurred: {e}\")\n",
        "\n",
        "# Example usage\n",
        "count_word_occurrences(\"sample.txt\", \"python\")\n"
      ],
      "metadata": {
        "colab": {
          "base_uri": "https://localhost:8080/"
        },
        "id": "vaPpQy1URccF",
        "outputId": "fb759a22-86a2-4beb-d585-ff917b01a137"
      },
      "execution_count": 21,
      "outputs": [
        {
          "output_type": "stream",
          "name": "stdout",
          "text": [
            "Error: The file 'sample.txt' does not exist.\n"
          ]
        }
      ]
    },
    {
      "cell_type": "markdown",
      "source": [
        "22. How can you check if a file is empty before attempting to read its contents ?"
      ],
      "metadata": {
        "id": "TI6unPRdRhDQ"
      }
    },
    {
      "cell_type": "code",
      "source": [
        "import os\n",
        "\n",
        "filename = \"example.txt\"\n",
        "\n",
        "# Check if file exists and is not empty\n",
        "if os.path.exists(filename) and os.stat(filename).st_size == 0:\n",
        "    print(\"The file is empty.\")\n",
        "else:\n",
        "    with open(filename, 'r') as file:\n",
        "        content = file.read()\n",
        "        print(\"File content:\\n\", content)\n"
      ],
      "metadata": {
        "colab": {
          "base_uri": "https://localhost:8080/"
        },
        "id": "CWCf-91hRoDN",
        "outputId": "da4ae95b-9521-4ce5-d28a-02e2027df293"
      },
      "execution_count": 22,
      "outputs": [
        {
          "output_type": "stream",
          "name": "stdout",
          "text": [
            "File content:\n",
            " Hello, this is a sample text.This line will be added to the file.\n",
            "\n"
          ]
        }
      ]
    },
    {
      "cell_type": "markdown",
      "source": [
        "23. Write a Python program that writes to a log file when an error occurs during file handling"
      ],
      "metadata": {
        "id": "368Wg89qRqc-"
      }
    },
    {
      "cell_type": "code",
      "source": [
        "import logging\n",
        "\n",
        "# Configure logging\n",
        "logging.basicConfig(\n",
        "    filename='file_errors.log',\n",
        "    level=logging.ERROR,\n",
        "    format='%(asctime)s - %(levelname)s - %(message)s'\n",
        ")\n",
        "\n",
        "def read_file(filename):\n",
        "    try:\n",
        "        with open(filename, 'r') as file:\n",
        "            content = file.read()\n",
        "            print(\"File content:\\n\", content)\n",
        "    except FileNotFoundError as e:\n",
        "        print(\"Error: File not found.\")\n",
        "        logging.error(f\"FileNotFoundError: {e}\")\n",
        "    except IOError as e:\n",
        "        print(\"Error: An I/O error occurred.\")\n",
        "        logging.error(f\"IOError: {e}\")\n",
        "\n",
        "# Example usage\n",
        "read_file(\"nonexistent_file.txt\")\n"
      ],
      "metadata": {
        "id": "P4s4JfyYRwi9",
        "outputId": "3232154b-f016-427b-8d91-1f917e85b387",
        "colab": {
          "base_uri": "https://localhost:8080/"
        }
      },
      "execution_count": 23,
      "outputs": [
        {
          "output_type": "stream",
          "name": "stderr",
          "text": [
            "ERROR:root:FileNotFoundError: [Errno 2] No such file or directory: 'nonexistent_file.txt'\n"
          ]
        },
        {
          "output_type": "stream",
          "name": "stdout",
          "text": [
            "Error: File not found.\n"
          ]
        }
      ]
    }
  ]
}